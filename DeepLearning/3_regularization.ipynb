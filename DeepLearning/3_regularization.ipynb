{
 "cells": [
  {
   "cell_type": "markdown",
   "metadata": {
    "colab_type": "text",
    "id": "kR-4eNdK6lYS"
   },
   "source": [
    "Deep Learning\n",
    "=============\n",
    "\n",
    "Assignment 3\n",
    "------------\n",
    "\n",
    "Previously in `2_fullyconnected.ipynb`, you trained a logistic regression and a neural network model.\n",
    "\n",
    "The goal of this assignment is to explore regularization techniques."
   ]
  },
  {
   "cell_type": "code",
   "execution_count": 1,
   "metadata": {
    "cellView": "both",
    "colab": {
     "autoexec": {
      "startup": false,
      "wait_interval": 0
     }
    },
    "colab_type": "code",
    "collapsed": true,
    "id": "JLpLa8Jt7Vu4"
   },
   "outputs": [],
   "source": [
    "# These are all the modules we'll be using later. Make sure you can import them\n",
    "# before proceeding further.\n",
    "from __future__ import print_function\n",
    "import numpy as np\n",
    "import tensorflow as tf\n",
    "from six.moves import cPickle as pickle"
   ]
  },
  {
   "cell_type": "markdown",
   "metadata": {
    "colab_type": "text",
    "id": "1HrCK6e17WzV"
   },
   "source": [
    "First reload the data we generated in _notmist.ipynb_."
   ]
  },
  {
   "cell_type": "code",
   "execution_count": 2,
   "metadata": {
    "cellView": "both",
    "colab": {
     "autoexec": {
      "startup": false,
      "wait_interval": 0
     },
     "output_extras": [
      {
       "item_id": 1
      }
     ]
    },
    "colab_type": "code",
    "collapsed": false,
    "executionInfo": {
     "elapsed": 11777,
     "status": "ok",
     "timestamp": 1449849322348,
     "user": {
      "color": "",
      "displayName": "",
      "isAnonymous": false,
      "isMe": true,
      "permissionId": "",
      "photoUrl": "",
      "sessionId": "0",
      "userId": ""
     },
     "user_tz": 480
    },
    "id": "y3-cj1bpmuxc",
    "outputId": "e03576f1-ebbe-4838-c388-f1777bcc9873"
   },
   "outputs": [
    {
     "name": "stdout",
     "output_type": "stream",
     "text": [
      "Training set (200000, 28, 28) (200000,)\n",
      "Validation set (10000, 28, 28) (10000,)\n",
      "Test set (10000, 28, 28) (10000,)\n"
     ]
    }
   ],
   "source": [
    "pickle_file = 'notMNIST.pickle'\n",
    "\n",
    "with open(pickle_file, 'rb') as f:\n",
    "  save = pickle.load(f)\n",
    "  train_dataset = save['train_dataset']\n",
    "  train_labels = save['train_labels']\n",
    "  valid_dataset = save['valid_dataset']\n",
    "  valid_labels = save['valid_labels']\n",
    "  test_dataset = save['test_dataset']\n",
    "  test_labels = save['test_labels']\n",
    "  del save  # hint to help gc free up memory\n",
    "  print('Training set', train_dataset.shape, train_labels.shape)\n",
    "  print('Validation set', valid_dataset.shape, valid_labels.shape)\n",
    "  print('Test set', test_dataset.shape, test_labels.shape)"
   ]
  },
  {
   "cell_type": "markdown",
   "metadata": {
    "colab_type": "text",
    "id": "L7aHrm6nGDMB"
   },
   "source": [
    "Reformat into a shape that's more adapted to the models we're going to train:\n",
    "- data as a flat matrix,\n",
    "- labels as float 1-hot encodings."
   ]
  },
  {
   "cell_type": "code",
   "execution_count": 3,
   "metadata": {
    "cellView": "both",
    "colab": {
     "autoexec": {
      "startup": false,
      "wait_interval": 0
     },
     "output_extras": [
      {
       "item_id": 1
      }
     ]
    },
    "colab_type": "code",
    "collapsed": false,
    "executionInfo": {
     "elapsed": 11728,
     "status": "ok",
     "timestamp": 1449849322356,
     "user": {
      "color": "",
      "displayName": "",
      "isAnonymous": false,
      "isMe": true,
      "permissionId": "",
      "photoUrl": "",
      "sessionId": "0",
      "userId": ""
     },
     "user_tz": 480
    },
    "id": "IRSyYiIIGIzS",
    "outputId": "3f8996ee-3574-4f44-c953-5c8a04636582"
   },
   "outputs": [
    {
     "name": "stdout",
     "output_type": "stream",
     "text": [
      "Training set (200000, 784) (200000, 10)\n",
      "Validation set (10000, 784) (10000, 10)\n",
      "Test set (10000, 784) (10000, 10)\n"
     ]
    }
   ],
   "source": [
    "image_size = 28\n",
    "num_labels = 10\n",
    "\n",
    "def reformat(dataset, labels):\n",
    "  dataset = dataset.reshape((-1, image_size * image_size)).astype(np.float32)\n",
    "  # Map 2 to [0.0, 1.0, 0.0 ...], 3 to [0.0, 0.0, 1.0 ...]\n",
    "  labels = (np.arange(num_labels) == labels[:,None]).astype(np.float32)\n",
    "  return dataset, labels\n",
    "train_dataset, train_labels = reformat(train_dataset, train_labels)\n",
    "valid_dataset, valid_labels = reformat(valid_dataset, valid_labels)\n",
    "test_dataset, test_labels = reformat(test_dataset, test_labels)\n",
    "print('Training set', train_dataset.shape, train_labels.shape)\n",
    "print('Validation set', valid_dataset.shape, valid_labels.shape)\n",
    "print('Test set', test_dataset.shape, test_labels.shape)"
   ]
  },
  {
   "cell_type": "code",
   "execution_count": 4,
   "metadata": {
    "cellView": "both",
    "colab": {
     "autoexec": {
      "startup": false,
      "wait_interval": 0
     }
    },
    "colab_type": "code",
    "collapsed": true,
    "id": "RajPLaL_ZW6w"
   },
   "outputs": [],
   "source": [
    "def accuracy(predictions, labels):\n",
    "  return (100.0 * np.sum(np.argmax(predictions, 1) == np.argmax(labels, 1))\n",
    "          / predictions.shape[0])"
   ]
  },
  {
   "cell_type": "markdown",
   "metadata": {
    "colab_type": "text",
    "id": "sgLbUAQ1CW-1"
   },
   "source": [
    "---\n",
    "Problem 1\n",
    "---------\n",
    "\n",
    "Introduce and tune L2 regularization for both logistic and neural network models. Remember that L2 amounts to adding a penalty on the norm of the weights to the loss. In TensorFlow, you can compute the L2 loss for a tensor `t` using `nn.l2_loss(t)`. The right amount of regularization should improve your validation / test accuracy.\n",
    "\n",
    "---"
   ]
  },
  {
   "cell_type": "code",
   "execution_count": 92,
   "metadata": {
    "collapsed": true
   },
   "outputs": [],
   "source": [
    "# Graph\n",
    "from math import sqrt\n",
    "batch_size = 128\n",
    "H = 1024\n",
    "beta = 1e-4\n",
    "\n",
    "graph = tf.Graph()\n",
    "with graph.as_default():\n",
    "    # Input data. For the training data, we use a placeholder that will be fed\n",
    "    # at run time with a training minibatch.\n",
    "    tf_train_dataset = tf.placeholder(tf.float32,\n",
    "                                    shape=(batch_size, image_size * image_size))\n",
    "    tf_train_labels = tf.placeholder(tf.float32, shape=(batch_size, num_labels))\n",
    "    tf_valid_dataset = tf.constant(valid_dataset)\n",
    "    tf_test_dataset = tf.constant(test_dataset)\n",
    "    \n",
    "    # Variables.\n",
    "    weights1 = tf.Variable(\n",
    "        tf.truncated_normal([image_size * image_size, num_labels], stddev=sqrt(3.0/((image_size * image_size )+ num_labels))))\n",
    "    biases1 = tf.Variable(tf.zeros([num_labels]))\n",
    "\n",
    "    weights2 = tf.Variable(\n",
    "        tf.truncated_normal([num_labels,H], stddev=sqrt(3.0/(H + num_labels))))\n",
    "    \n",
    "    weights3 = tf.Variable(\n",
    "        tf.truncated_normal([H, num_labels], stddev=sqrt(3.0/(H + num_labels))))\n",
    "    biases3 = tf.Variable(tf.zeros([num_labels]))\n",
    "    \n",
    "  \n",
    "    # Training computation\n",
    "    a1 = tf.matmul(tf_train_dataset, weights1) + biases1\n",
    "    a2 = tf.nn.relu(tf.matmul(a1, weights2))\n",
    "    #a2 = tf.tanh(tf.matmul(a1, weights2))\n",
    "    logits = tf.matmul(a2, weights3) + biases3\n",
    "\n",
    "    \n",
    "    loss = tf.reduce_mean(tf.nn.softmax_cross_entropy_with_logits(logits, tf_train_labels) +\n",
    "                          beta * (tf.nn.l2_loss(weights1) + tf.nn.l2_loss(weights2) + \n",
    "                                  tf.nn.l2_loss(weights3)))\n",
    "  \n",
    "    # Optimizer.\n",
    "    optimizer = tf.train.GradientDescentOptimizer(0.5).minimize(loss)\n",
    "  \n",
    "    # Predictions for the training, validation, and test data.\n",
    "    train_prediction = tf.nn.softmax(logits)\n",
    "    \n",
    "    valid_a1 = tf.matmul(tf_valid_dataset, weights1) + biases1\n",
    "    valid_a2 = tf.nn.relu(tf.matmul(valid_a1, weights2))\n",
    "    #valid_a2 = tf.tanh(tf.matmul(valid_a1, weights2))\n",
    "    valid_prediction = tf.nn.softmax(\n",
    "        tf.matmul(valid_a2, weights3) + biases3)\n",
    "    \n",
    "    test_a1 = tf.matmul(tf_test_dataset, weights1) + biases1\n",
    "    test_a2 = tf.nn.relu(tf.matmul(test_a1, weights2))\n",
    "    #test_a2 = tf.tanh(tf.matmul(test_a1, weights2))\n",
    "    test_prediction = tf.nn.softmax(\n",
    "        tf.matmul(test_a2, weights3) + biases3)"
   ]
  },
  {
   "cell_type": "code",
   "execution_count": 93,
   "metadata": {
    "collapsed": false
   },
   "outputs": [
    {
     "name": "stdout",
     "output_type": "stream",
     "text": [
      "Initialized\n",
      "Minibatch loss at step 0: 2.332665\n",
      "Minibatch accuracy: 6.2%\n",
      "Validation accuracy: 30.2%\n",
      "Minibatch loss at step 500: 0.826725\n",
      "Minibatch accuracy: 74.2%\n",
      "Validation accuracy: 83.1%\n",
      "Minibatch loss at step 1000: 0.437080\n",
      "Minibatch accuracy: 88.3%\n",
      "Validation accuracy: 83.9%\n",
      "Minibatch loss at step 1500: 0.605762\n",
      "Minibatch accuracy: 84.4%\n",
      "Validation accuracy: 84.5%\n",
      "Minibatch loss at step 2000: 0.374016\n",
      "Minibatch accuracy: 87.5%\n",
      "Validation accuracy: 84.2%\n",
      "Minibatch loss at step 2500: 0.600439\n",
      "Minibatch accuracy: 82.8%\n",
      "Validation accuracy: 84.3%\n",
      "Minibatch loss at step 3000: 0.527833\n",
      "Minibatch accuracy: 87.5%\n",
      "Validation accuracy: 84.3%\n",
      "Minibatch loss at step 3500: 0.405960\n",
      "Minibatch accuracy: 87.5%\n",
      "Validation accuracy: 84.7%\n",
      "Minibatch loss at step 4000: 0.625970\n",
      "Minibatch accuracy: 82.8%\n",
      "Validation accuracy: 84.4%\n",
      "Minibatch loss at step 4500: 0.345050\n",
      "Minibatch accuracy: 89.8%\n",
      "Validation accuracy: 85.2%\n",
      "Minibatch loss at step 5000: 0.472144\n",
      "Minibatch accuracy: 85.9%\n",
      "Validation accuracy: 85.2%\n",
      "Test accuracy: 91.4%\n"
     ]
    }
   ],
   "source": [
    "# Run the Graph\n",
    "num_steps = 5001\n",
    "\n",
    "with tf.Session(graph=graph) as session:\n",
    "    tf.initialize_all_variables().run()\n",
    "    print(\"Initialized\")\n",
    "    for step in range(num_steps):\n",
    "        # Pick an offset within the training data, which has been randomized.\n",
    "        # Note: we could use better randomization across epochs.\n",
    "        offset = (step * batch_size) % (train_labels.shape[0] - batch_size)\n",
    "        # Generate a minibatch.\n",
    "        batch_data = train_dataset[offset:(offset + batch_size), :]\n",
    "        batch_labels = train_labels[offset:(offset + batch_size), :]\n",
    "        # Prepare a dictionary telling the session where to feed the minibatch.\n",
    "        # The key of the dictionary is the placeholder node of the graph to be fed,\n",
    "        # and the value is the numpy array to feed to it.\n",
    "        feed_dict = {tf_train_dataset : batch_data, tf_train_labels : batch_labels}\n",
    "        _, l, predictions = session.run(\n",
    "            [optimizer, loss, train_prediction], feed_dict=feed_dict)\n",
    "        if (step % 500 == 0):\n",
    "            print(\"Minibatch loss at step %d: %f\" % (step, l))\n",
    "            print(\"Minibatch accuracy: %.1f%%\" % accuracy(predictions, batch_labels))\n",
    "            print(\"Validation accuracy: %.1f%%\" % accuracy(valid_prediction.eval(), valid_labels))\n",
    "    print(\"Test accuracy: %.1f%%\" % accuracy(test_prediction.eval(), test_labels))"
   ]
  },
  {
   "cell_type": "markdown",
   "metadata": {
    "colab_type": "text",
    "id": "na8xX2yHZzNF"
   },
   "source": [
    "---\n",
    "Problem 2\n",
    "---------\n",
    "Let's demonstrate an extreme case of overfitting. Restrict your training data to just a few batches. What happens?\n",
    "\n",
    "---"
   ]
  },
  {
   "cell_type": "code",
   "execution_count": 98,
   "metadata": {
    "collapsed": false
   },
   "outputs": [
    {
     "name": "stdout",
     "output_type": "stream",
     "text": [
      "Initialized\n",
      "Minibatch loss at step 0: 2.316006\n",
      "Minibatch accuracy: 6.2%\n",
      "Validation accuracy: 24.4%\n",
      "Test accuracy: 88.1%\n"
     ]
    }
   ],
   "source": [
    "# Run the Graph\n",
    "num_steps = 200\n",
    "\n",
    "with tf.Session(graph=graph) as session:\n",
    "    tf.initialize_all_variables().run()\n",
    "    print(\"Initialized\")\n",
    "    for step in range(num_steps):\n",
    "        # Pick an offset within the training data, which has been randomized.\n",
    "        # Note: we could use better randomization across epochs.\n",
    "        offset = (step * batch_size) % (train_labels.shape[0] - batch_size)\n",
    "        # Generate a minibatch.\n",
    "        batch_data = train_dataset[offset:(offset + batch_size), :]\n",
    "        batch_labels = train_labels[offset:(offset + batch_size), :]\n",
    "        # Prepare a dictionary telling the session where to feed the minibatch.\n",
    "        # The key of the dictionary is the placeholder node of the graph to be fed,\n",
    "        # and the value is the numpy array to feed to it.\n",
    "        feed_dict = {tf_train_dataset : batch_data, tf_train_labels : batch_labels}\n",
    "        _, l, predictions = session.run(\n",
    "            [optimizer, loss, train_prediction], feed_dict=feed_dict)\n",
    "        if (step % 500 == 0):\n",
    "            print(\"Minibatch loss at step %d: %f\" % (step, l))\n",
    "            print(\"Minibatch accuracy: %.1f%%\" % accuracy(predictions, batch_labels))\n",
    "            print(\"Validation accuracy: %.1f%%\" % accuracy(valid_prediction.eval(), valid_labels))\n",
    "    print(\"Test accuracy: %.1f%%\" % accuracy(test_prediction.eval(), test_labels))"
   ]
  },
  {
   "cell_type": "markdown",
   "metadata": {
    "colab_type": "text",
    "id": "ww3SCBUdlkRc"
   },
   "source": [
    "---\n",
    "Problem 3\n",
    "---------\n",
    "Introduce Dropout on the hidden layer of the neural network. Remember: Dropout should only be introduced during training, not evaluation, otherwise your evaluation results would be stochastic as well. TensorFlow provides `nn.dropout()` for that, but you have to make sure it's only inserted during training.\n",
    "\n",
    "What happens to our extreme overfitting case?\n",
    "\n",
    "---"
   ]
  },
  {
   "cell_type": "code",
   "execution_count": 103,
   "metadata": {
    "collapsed": false
   },
   "outputs": [],
   "source": [
    "# Graph\n",
    "from math import sqrt\n",
    "batch_size = 128\n",
    "H = 1024\n",
    "beta = 1e-4\n",
    "\n",
    "graph = tf.Graph()\n",
    "with graph.as_default():\n",
    "    # Input data. For the training data, we use a placeholder that will be fed\n",
    "    # at run time with a training minibatch.\n",
    "    tf_train_dataset = tf.placeholder(tf.float32,\n",
    "                                    shape=(batch_size, image_size * image_size))\n",
    "    tf_train_labels = tf.placeholder(tf.float32, shape=(batch_size, num_labels))\n",
    "    tf_valid_dataset = tf.constant(valid_dataset)\n",
    "    tf_test_dataset = tf.constant(test_dataset)\n",
    "    \n",
    "    # Variables.\n",
    "    weights1 = tf.Variable(\n",
    "        tf.truncated_normal([image_size * image_size, num_labels], stddev=sqrt(3.0/((image_size * image_size )+ num_labels))))\n",
    "    biases1 = tf.Variable(tf.zeros([num_labels]))\n",
    "\n",
    "    weights2 = tf.Variable(\n",
    "        tf.truncated_normal([num_labels,H], stddev=sqrt(3.0/(H + num_labels))))\n",
    "    \n",
    "    weights3 = tf.Variable(\n",
    "        tf.truncated_normal([H, num_labels], stddev=sqrt(3.0/(H + num_labels))))\n",
    "    biases3 = tf.Variable(tf.zeros([num_labels]))\n",
    "\n",
    "    tf_keep_prob = tf.constant(0.5)\n",
    "    # Training computation\n",
    "    a1 = tf.matmul(tf_train_dataset, weights1) + biases1\n",
    "    a2 = tf.nn.dropout(tf.nn.relu(tf.matmul(a1, weights2)),tf_keep_prob)\n",
    "    logits = tf.matmul(a2, weights3) + biases3\n",
    "    \n",
    "    loss = tf.reduce_mean(tf.nn.softmax_cross_entropy_with_logits(logits, tf_train_labels) +\n",
    "                          beta * (tf.nn.l2_loss(weights1) + tf.nn.l2_loss(weights2) + \n",
    "                                  tf.nn.l2_loss(weights3)))\n",
    "  \n",
    "    # Optimizer.\n",
    "    optimizer = tf.train.GradientDescentOptimizer(0.5).minimize(loss)\n",
    "  \n",
    "    # Predictions for the training, validation, and test data.\n",
    "    train_prediction = tf.nn.softmax(logits)\n",
    "    \n",
    "    valid_a1 = tf.matmul(tf_valid_dataset, weights1) + biases1\n",
    "    valid_a2 = tf.nn.relu(tf.matmul(valid_a1, weights2))\n",
    "    valid_prediction = tf.nn.softmax(\n",
    "        tf.matmul(valid_a2, weights3) + biases3)\n",
    "    \n",
    "    test_a1 = tf.matmul(tf_test_dataset, weights1) + biases1\n",
    "    test_a2 = tf.nn.relu(tf.matmul(test_a1, weights2))\n",
    "    test_prediction = tf.nn.softmax(\n",
    "        tf.matmul(test_a2, weights3) + biases3)"
   ]
  },
  {
   "cell_type": "code",
   "execution_count": 104,
   "metadata": {
    "collapsed": false
   },
   "outputs": [
    {
     "name": "stdout",
     "output_type": "stream",
     "text": [
      "Initialized\n",
      "Minibatch loss at step 0: 2.347893\n",
      "Minibatch accuracy: 8.6%\n",
      "Validation accuracy: 17.2%\n",
      "Minibatch loss at step 500: 0.924175\n",
      "Minibatch accuracy: 72.7%\n",
      "Validation accuracy: 83.0%\n",
      "Minibatch loss at step 1000: 0.499427\n",
      "Minibatch accuracy: 84.4%\n",
      "Validation accuracy: 82.8%\n",
      "Minibatch loss at step 1500: 0.721231\n",
      "Minibatch accuracy: 81.2%\n",
      "Validation accuracy: 84.5%\n",
      "Minibatch loss at step 2000: 0.486349\n",
      "Minibatch accuracy: 85.9%\n",
      "Validation accuracy: 83.9%\n",
      "Minibatch loss at step 2500: 0.675021\n",
      "Minibatch accuracy: 79.7%\n",
      "Validation accuracy: 83.7%\n",
      "Minibatch loss at step 3000: 0.605935\n",
      "Minibatch accuracy: 82.8%\n",
      "Validation accuracy: 82.2%\n",
      "Test accuracy: 88.3%\n"
     ]
    }
   ],
   "source": [
    "# Run the Graph\n",
    "num_steps = 3001\n",
    "\n",
    "with tf.Session(graph=graph) as session:\n",
    "    tf.initialize_all_variables().run()\n",
    "    print(\"Initialized\")\n",
    "    for step in range(num_steps):\n",
    "        # Pick an offset within the training data, which has been randomized.\n",
    "        # Note: we could use better randomization across epochs.\n",
    "        offset = (step * batch_size) % (train_labels.shape[0] - batch_size)\n",
    "        # Generate a minibatch.\n",
    "        batch_data = train_dataset[offset:(offset + batch_size), :]\n",
    "        batch_labels = train_labels[offset:(offset + batch_size), :]\n",
    "        # Prepare a dictionary telling the session where to feed the minibatch.\n",
    "        # The key of the dictionary is the placeholder node of the graph to be fed,\n",
    "        # and the value is the numpy array to feed to it.\n",
    "        feed_dict = {tf_train_dataset : batch_data, tf_train_labels : batch_labels}\n",
    "        _, l, predictions = session.run(\n",
    "            [optimizer, loss, train_prediction], feed_dict=feed_dict)\n",
    "        if (step % 500 == 0):\n",
    "            print(\"Minibatch loss at step %d: %f\" % (step, l))\n",
    "            print(\"Minibatch accuracy: %.1f%%\" % accuracy(predictions, batch_labels))\n",
    "            print(\"Validation accuracy: %.1f%%\" % accuracy(valid_prediction.eval(), valid_labels))\n",
    "    print(\"Test accuracy: %.1f%%\" % accuracy(test_prediction.eval(), test_labels))"
   ]
  },
  {
   "cell_type": "markdown",
   "metadata": {
    "colab_type": "text",
    "id": "-b1hTz3VWZjw"
   },
   "source": [
    "---\n",
    "Problem 4\n",
    "---------\n",
    "\n",
    "Try to get the best performance you can using a multi-layer model! The best reported test accuracy using a deep network is [97.1%](http://yaroslavvb.blogspot.com/2011/09/notmnist-dataset.html?showComment=1391023266211#c8758720086795711595).\n",
    "\n",
    "One avenue you can explore is to add multiple layers.\n",
    "\n",
    "Another one is to use learning rate decay:\n",
    "\n",
    "    global_step = tf.Variable(0)  # count the number of steps taken.\n",
    "    learning_rate = tf.train.exponential_decay(0.5, global_step, ...)\n",
    "    optimizer = tf.train.GradientDescentOptimizer(learning_rate).minimize(loss, global_step=global_step)\n",
    " \n",
    " ---\n"
   ]
  },
  {
   "cell_type": "code",
   "execution_count": 135,
   "metadata": {
    "collapsed": false
   },
   "outputs": [
    {
     "name": "stdout",
     "output_type": "stream",
     "text": [
      "Initialized\n",
      "Minibatch loss at step 0: 3.429143\n",
      "Minibatch accuracy: 12.5%\n",
      "Validation accuracy: 17.2%\n",
      "Learning Rate: 0.1\n",
      "Minibatch loss at step 1000: 0.953548\n",
      "Minibatch accuracy: 86.7%\n",
      "Validation accuracy: 86.0%\n",
      "Learning Rate: 0.09216\n",
      "Minibatch loss at step 2000: 0.918556\n",
      "Minibatch accuracy: 89.8%\n",
      "Validation accuracy: 87.3%\n",
      "Learning Rate: 0.0849346\n",
      "Minibatch loss at step 3000: 0.917707\n",
      "Minibatch accuracy: 87.5%\n",
      "Validation accuracy: 88.2%\n",
      "Learning Rate: 0.0782758\n",
      "Minibatch loss at step 4000: 0.939141\n",
      "Minibatch accuracy: 86.7%\n",
      "Validation accuracy: 88.4%\n",
      "Learning Rate: 0.072139\n",
      "Minibatch loss at step 5000: 0.867144\n",
      "Minibatch accuracy: 89.8%\n",
      "Validation accuracy: 89.2%\n",
      "Learning Rate: 0.0664833\n",
      "Minibatch loss at step 6000: 0.952346\n",
      "Minibatch accuracy: 85.9%\n",
      "Validation accuracy: 89.2%\n",
      "Learning Rate: 0.061271\n",
      "Minibatch loss at step 7000: 0.823030\n",
      "Minibatch accuracy: 89.8%\n",
      "Validation accuracy: 89.5%\n",
      "Learning Rate: 0.0564673\n",
      "Minibatch loss at step 8000: 0.755896\n",
      "Minibatch accuracy: 91.4%\n",
      "Validation accuracy: 89.4%\n",
      "Learning Rate: 0.0520403\n",
      "Minibatch loss at step 9000: 0.846894\n",
      "Minibatch accuracy: 88.3%\n",
      "Validation accuracy: 89.8%\n",
      "Learning Rate: 0.0479603\n",
      "Minibatch loss at step 10000: 0.813509\n",
      "Minibatch accuracy: 89.8%\n",
      "Validation accuracy: 90.1%\n",
      "Learning Rate: 0.0442002\n",
      "Test accuracy: 95.6%\n"
     ]
    }
   ],
   "source": [
    "# Graph\n",
    "from math import sqrt\n",
    "batch_size = 128\n",
    "H1 = 2048\n",
    "H2 = 1024\n",
    "H3 = 1024\n",
    "beta = 1e-4\n",
    "\n",
    "graph = tf.Graph()\n",
    "with graph.as_default():\n",
    "    # Input data. For the training data, we use a placeholder that will be fed\n",
    "    # at run time with a training minibatch.\n",
    "    tf_train_dataset = tf.placeholder(tf.float32,\n",
    "                                    shape=(batch_size, image_size * image_size))\n",
    "    tf_train_labels = tf.placeholder(tf.float32, shape=(batch_size, num_labels))\n",
    "    tf_valid_dataset = tf.constant(valid_dataset)\n",
    "    tf_test_dataset = tf.constant(test_dataset)\n",
    "    \n",
    "    # Variables\n",
    "    #Layer 1\n",
    "    weights1 = tf.Variable(\n",
    "        tf.truncated_normal([image_size * image_size, H1], stddev=sqrt(3.0/((image_size * image_size )+ H1))))\n",
    "    biases1 = tf.Variable(tf.zeros([H1]))\n",
    "    activation_weights1 = tf.Variable(\n",
    "        tf.truncated_normal([H1,H1], stddev=sqrt(3.0/(H + num_labels))))\n",
    "    \n",
    "    #Layer 2\n",
    "    weights2 = tf.Variable(\n",
    "        tf.truncated_normal([H1, H2], stddev=sqrt(3.0/(H1 + H2))))\n",
    "    biases2 = tf.Variable(tf.zeros([H2]))\n",
    "    activation_weights2 = tf.Variable(\n",
    "        tf.truncated_normal([H2,H2], stddev=sqrt(3.0/(H + num_labels))))\n",
    "\n",
    "    #Layer 3\n",
    "    weights3 = tf.Variable(\n",
    "        tf.truncated_normal([H2, H3], stddev=sqrt(3.0/(H2 + H3))))\n",
    "    biases3 = tf.Variable(tf.zeros([H3]))\n",
    "    activation_weights3 = tf.Variable(\n",
    "        tf.truncated_normal([H3,H3], stddev=sqrt(3.0/(H + num_labels))))\n",
    "\n",
    "    #Output Layer\n",
    "    weights4 = tf.Variable(\n",
    "        tf.truncated_normal([H3, num_labels], stddev=sqrt(3.0/(H3 + num_labels))))\n",
    "    biases4 = tf.Variable(tf.zeros([num_labels]))\n",
    "\n",
    "\n",
    "\n",
    "\n",
    "    tf_keep_prob = tf.constant(0.5)\n",
    "    # Training computation\n",
    "    layer1 = tf.matmul(tf_train_dataset, weights1) + biases1\n",
    "    a1 = tf.nn.dropout(tf.nn.relu(tf.matmul(layer1, activation_weights1)),tf_keep_prob)\n",
    "    \n",
    "    layer2 = tf.matmul(a1, weights2) + biases2\n",
    "    a2 = tf.nn.dropout(tf.nn.relu(tf.matmul(layer2, activation_weights2)),tf_keep_prob)\n",
    "    \n",
    "    layer3 = tf.matmul(a2, weights3) + biases3\n",
    "    a3 = tf.nn.dropout(tf.nn.relu(tf.matmul(layer3, activation_weights3)),tf_keep_prob)\n",
    "    \n",
    "    logits = tf.matmul(a3, weights4) + biases4\n",
    "    \n",
    "    loss = tf.reduce_mean(tf.nn.softmax_cross_entropy_with_logits(logits, tf_train_labels) +\n",
    "                          beta * (tf.nn.l2_loss(weights1) + tf.nn.l2_loss(weights2) + \n",
    "                                  tf.nn.l2_loss(weights3) + tf.nn.l2_loss(weights4) +\n",
    "                                  tf.nn.l2_loss(activation_weights1) + \n",
    "                                  tf.nn.l2_loss(activation_weights2) + \n",
    "                                  tf.nn.l2_loss(activation_weights3)))\n",
    "  \n",
    "    # Optimizer.\n",
    "    global_step = tf.Variable(0)  # count the number of steps taken.\n",
    "    starter_learning_rate = 0.1\n",
    "    learning_rate = tf.train.exponential_decay(starter_learning_rate, global_step, 500, 0.96, staircase=True)\n",
    "    optimizer = tf.train.GradientDescentOptimizer(learning_rate).minimize(loss, global_step=global_step)\n",
    "  \n",
    "    # Predictions for the training, validation, and test data.\n",
    "    train_prediction = tf.nn.softmax(logits)\n",
    "     \n",
    "    valid_layer1 = tf.matmul(tf_valid_dataset, weights1) + biases1\n",
    "    valid_a1 = tf.nn.relu(tf.matmul(valid_layer1, activation_weights1))\n",
    "    valid_layer2 = tf.matmul(valid_a1, weights2) + biases2\n",
    "    valid_a2 = tf.nn.relu(tf.matmul(valid_layer2, activation_weights2))\n",
    "    valid_layer3 = tf.matmul(valid_a2, weights3) + biases3\n",
    "    valid_a3 = tf.nn.relu(tf.matmul(valid_layer3, activation_weights3))\n",
    "    valid_prediction = tf.nn.softmax(tf.matmul(valid_a3, weights4) + biases4)\n",
    "    \n",
    "    test_layer1 = tf.matmul(tf_test_dataset, weights1) + biases1\n",
    "    test_a1 = tf.nn.relu(tf.matmul(test_layer1, activation_weights1))\n",
    "    test_layer2 = tf.matmul(test_a1, weights2) + biases2\n",
    "    test_a2 = tf.nn.relu(tf.matmul(test_layer2, activation_weights2))\n",
    "    test_layer3 = tf.matmul(test_a2, weights3) + biases3\n",
    "    test_a3 = tf.nn.relu(tf.matmul(test_layer3, activation_weights3))\n",
    "    test_prediction = tf.nn.softmax(tf.matmul(test_a3, weights4) + biases4)\n",
    "    \n",
    "# Run the Graph\n",
    "num_steps = 10001\n",
    "\n",
    "with tf.Session(graph=graph) as session:\n",
    "    tf.initialize_all_variables().run()\n",
    "    print(\"Initialized\")\n",
    "    for step in range(num_steps):\n",
    "        # Pick an offset within the training data, which has been randomized.\n",
    "        # Note: we could use better randomization across epochs.\n",
    "        offset = (step * batch_size) % (train_labels.shape[0] - batch_size)\n",
    "        # Generate a minibatch.\n",
    "        batch_data = train_dataset[offset:(offset + batch_size), :]\n",
    "        batch_labels = train_labels[offset:(offset + batch_size), :]\n",
    "        # Prepare a dictionary telling the session where to feed the minibatch.\n",
    "        # The key of the dictionary is the placeholder node of the graph to be fed,\n",
    "        # and the value is the numpy array to feed to it.\n",
    "        feed_dict = {tf_train_dataset : batch_data, tf_train_labels : batch_labels}\n",
    "        _, l, predictions = session.run(\n",
    "            [optimizer, loss, train_prediction], feed_dict=feed_dict)\n",
    "        if (step % 1000 == 0):\n",
    "            print(\"Minibatch loss at step %d: %f\" % (step, l))\n",
    "            print(\"Minibatch accuracy: %.1f%%\" % accuracy(predictions, batch_labels))\n",
    "            print(\"Validation accuracy: %.1f%%\" % accuracy(valid_prediction.eval(), valid_labels))\n",
    "            print(\"Learning Rate:\", learning_rate.eval())\n",
    "    print(\"Test accuracy: %.1f%%\" % accuracy(test_prediction.eval(), test_labels))"
   ]
  },
  {
   "cell_type": "code",
   "execution_count": null,
   "metadata": {
    "collapsed": true
   },
   "outputs": [],
   "source": []
  }
 ],
 "metadata": {
  "colab": {
   "default_view": {},
   "name": "3_regularization.ipynb",
   "provenance": [],
   "version": "0.3.2",
   "views": {}
  },
  "kernelspec": {
   "display_name": "Python 2",
   "language": "python",
   "name": "python2"
  },
  "language_info": {
   "codemirror_mode": {
    "name": "ipython",
    "version": 2
   },
   "file_extension": ".py",
   "mimetype": "text/x-python",
   "name": "python",
   "nbconvert_exporter": "python",
   "pygments_lexer": "ipython2",
   "version": "2.7.12"
  }
 },
 "nbformat": 4,
 "nbformat_minor": 0
}
